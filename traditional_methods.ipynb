{
 "cells": [
  {
   "cell_type": "code",
   "execution_count": 3,
   "metadata": {},
   "outputs": [],
   "source": [
    "import os\n",
    "import numpy as np\n",
    "from PIL import Image\n",
    "import pandas as pd\n",
    "from sklearn.preprocessing import LabelEncoder\n",
    "from sklearn.model_selection import train_test_split, GridSearchCV, KFold\n",
    "from sklearn.decomposition import PCA, IncrementalPCA\n",
    "from sklearn.metrics import accuracy_score, classification_report\n",
    "from tqdm import tqdm\n",
    "import numpy as np\n",
    "import tensorflow as tf\n",
    "from tensorflow import keras\n",
    "import matplotlib.pyplot as plt\n",
    "\n",
    "from sklearn.ensemble import RandomForestClassifier\n",
    "from sklearn.svm import SVC\n",
    "from sklearn.linear_model import LogisticRegression\n",
    "from sklearn.neighbors import KNeighborsClassifier\n",
    "from xgboost import XGBClassifier\n",
    "from sklearn.naive_bayes import GaussianNB"
   ]
  },
  {
   "cell_type": "code",
   "execution_count": 4,
   "metadata": {},
   "outputs": [],
   "source": [
    "# put image data into a numpy array\n",
    "def preprocess_data(img_dir):\n",
    "\n",
    "    images = []\n",
    "    labels = []\n",
    "\n",
    "    img_data = pd.read_csv('Data_Entry_2017_v2020.csv')\n",
    "\n",
    "    # loop through images\n",
    "    i = 1\n",
    "    for img_file in tqdm(os.listdir(img_dir), desc=f\"loading images\"):\n",
    "\n",
    "        # save them as numpy arrau\n",
    "        img_path = os.path.join(img_dir, img_file)\n",
    "        img = Image.open(img_path).convert('RGB') # 3 channels to match ImageNet\n",
    "\n",
    "\n",
    "        img = tf.image.resize(img, [32, 32])\n",
    "\n",
    "        img = tf.image.random_contrast(img, lower=0.8, upper=1.2) \n",
    "        img = tf.image.random_brightness(img, max_delta=0.2)\n",
    "        img = tf.image.random_flip_left_right(img)\n",
    "\n",
    "        # normalize the image to the range [0, 1]\n",
    "        img = tf.cast(img, tf.float32) / 255.0\n",
    "\n",
    "        # apply ImageNet normalization: (image - mean) / std\n",
    "        mean = [0.485, 0.456, 0.406]\n",
    "        std = [0.229, 0.224, 0.225]\n",
    "        img = (img - mean) / std\n",
    "\n",
    "        # add random noise\n",
    "        noise = tf.random.uniform(shape=tf.shape(img), minval=0, maxval=1, dtype=tf.float32)\n",
    "        img = tf.where(noise < 0.05 / 2, 0.0, tf.where(noise < 0.05, 1.0, img))\n",
    "\n",
    "        images.append(img)\n",
    "\n",
    "        # get label\n",
    "        label = img_data.loc[img_data['Image Index'] == img_file, 'Finding Labels'].values[0]\n",
    "        labels.append(label)\n",
    "\n",
    "        i += 1\n",
    "\n",
    "    # encode labels )numericaly\n",
    "    label_encoder = LabelEncoder()\n",
    "    labels = label_encoder.fit_transform(labels)\n",
    "\n",
    "    return np.array(images), np.array(labels)"
   ]
  },
  {
   "cell_type": "code",
   "execution_count": 10,
   "metadata": {},
   "outputs": [
    {
     "name": "stderr",
     "output_type": "stream",
     "text": [
      "loading images: 100%|██████████| 11700/11700 [03:53<00:00, 50.17it/s]\n"
     ]
    }
   ],
   "source": [
    "images, labels = preprocess_data('images')\n",
    "num_classes = len(set(labels))\n",
    "\n",
    "images = images.reshape(images.shape[0], -1).astype(float)\n",
    "\n",
    "# split data into training and testing sets (e.g., 80% train, 20% test)\n",
    "x_train, x_test, y_train, y_test = train_test_split(images, labels, test_size=0.2, random_state=42)"
   ]
  },
  {
   "cell_type": "code",
   "execution_count": 5,
   "metadata": {},
   "outputs": [],
   "source": [
    "# def hyperparameter_tuning(model, params, k_folds=5):\n",
    "#     k_fold = KFold(n_splits=k_folds, shuffle=True, random_state=0)\n",
    "#     grid_search = GridSearchCV(estimator=model, param_grid=params, cv=k_fold, scoring='accuracy', verbose=3, n_jobs=-1)\n",
    "\n",
    "#     grid_search.fit(x_train, y_train)\n",
    "\n",
    "#     # Best parameters\n",
    "#     print(\"Best Parameters:\", grid_search.best_params_)\n",
    "#     print(\"Best Score:\", grid_search.best_score_)\n",
    "\n",
    "#     return grid_search.best_params_, grid_search.best_score_"
   ]
  },
  {
   "cell_type": "code",
   "execution_count": null,
   "metadata": {},
   "outputs": [],
   "source": [
    "# svm = SVC()\n",
    "\n",
    "# param_grid_svm = {\n",
    "#     'C': [0.1, 1, 10, 100],\n",
    "#     'kernel': ['linear','poly', 'rbf']\n",
    "# }\n",
    "\n",
    "# params_svm, score_svm = hyperparameter_tuning(svm, param_grid_svm, 5)\n",
    "# print(f\"Best Params: {params_svm}\")\n",
    "# print(f\"Best Score: {score_svm}\")"
   ]
  },
  {
   "cell_type": "code",
   "execution_count": null,
   "metadata": {},
   "outputs": [],
   "source": [
    "# rf = RandomForestClassifier()\n",
    "\n",
    "# param_grid_rf = {\n",
    "#     'n_estimators': [100, 200, 500, 100],\n",
    "#     'max_depth': [None, 10, 20, 30]\n",
    "# }\n",
    "\n",
    "# params_rf, score_rf = hyperparameter_tuning(rf, param_grid_rf, 5)\n",
    "# print(f\"Best Params: {params_rf}\")\n",
    "# print(f\"Best Score: {score_rf}\")"
   ]
  },
  {
   "cell_type": "code",
   "execution_count": null,
   "metadata": {},
   "outputs": [],
   "source": [
    "# knn = KNeighborsClassifier()\n",
    "\n",
    "# param_grid_knn = {\n",
    "#     'n_neighbors': [1, 3, 5, 7, 9, 11, 13, 15]\n",
    "# }\n",
    "\n",
    "# params_knn, score_knn = hyperparameter_tuning(knn, param_grid_knn, 5)\n",
    "# print(f\"Best Params: {params_knn}\")\n",
    "# print(f\"Best Score: {score_knn}\")"
   ]
  },
  {
   "cell_type": "code",
   "execution_count": null,
   "metadata": {},
   "outputs": [],
   "source": [
    "# xgb = XGBClassifier()\n",
    "\n",
    "# param_grid_xgb = {\n",
    "#     'n_estimators': [100, 200, 500, 1000],\n",
    "#     'learning_rate': [0.01, 0.05, 0.1, 0.2]\n",
    "# }\n",
    "\n",
    "# params_xgb, score_xgb = hyperparameter_tuning(xgb, param_grid_xgb, 5)\n",
    "# print(f\"Best Params: {params_xgb}\")\n",
    "# print(f\"Best Score: {score_xgb}\")"
   ]
  },
  {
   "cell_type": "code",
   "execution_count": 11,
   "metadata": {},
   "outputs": [
    {
     "name": "stdout",
     "output_type": "stream",
     "text": [
      "Test Accuracy: 0.23803418803418802\n",
      "Test Classification Report:\n",
      "               precision    recall  f1-score   support\n",
      "\n",
      "           0       0.25      0.34      0.29       241\n",
      "           1       0.26      0.23      0.25       273\n",
      "           2       0.21      0.25      0.23       268\n",
      "           3       0.23      0.26      0.24       254\n",
      "           4       0.23      0.29      0.25       256\n",
      "           5       0.18      0.07      0.10       278\n",
      "           6       0.22      0.16      0.18       243\n",
      "           7       0.23      0.24      0.23       258\n",
      "           8       0.29      0.32      0.30       269\n",
      "\n",
      "    accuracy                           0.24      2340\n",
      "   macro avg       0.23      0.24      0.23      2340\n",
      "weighted avg       0.23      0.24      0.23      2340\n",
      "\n"
     ]
    }
   ],
   "source": [
    "svm = SVC()\n",
    "\n",
    "svm.fit(x_train, y_train)\n",
    "\n",
    "y_test_pred = svm.predict(x_test)\n",
    "svm_test_acc = accuracy_score(y_test, y_test_pred)\n",
    "print(\"Test Accuracy:\", svm_test_acc)\n",
    "print(\"Test Classification Report:\\n\", classification_report(y_test, y_test_pred))"
   ]
  },
  {
   "cell_type": "code",
   "execution_count": 12,
   "metadata": {},
   "outputs": [
    {
     "name": "stdout",
     "output_type": "stream",
     "text": [
      "Test Accuracy: 0.22777777777777777\n",
      "Test Classification Report:\n",
      "               precision    recall  f1-score   support\n",
      "\n",
      "           0       0.23      0.28      0.25       241\n",
      "           1       0.21      0.20      0.20       273\n",
      "           2       0.23      0.26      0.24       268\n",
      "           3       0.26      0.32      0.29       254\n",
      "           4       0.22      0.24      0.23       256\n",
      "           5       0.18      0.10      0.12       278\n",
      "           6       0.18      0.16      0.17       243\n",
      "           7       0.23      0.24      0.24       258\n",
      "           8       0.29      0.25      0.27       269\n",
      "\n",
      "    accuracy                           0.23      2340\n",
      "   macro avg       0.22      0.23      0.22      2340\n",
      "weighted avg       0.22      0.23      0.22      2340\n",
      "\n"
     ]
    }
   ],
   "source": [
    "rf = RandomForestClassifier()\n",
    "\n",
    "rf.fit(x_train, y_train)\n",
    "\n",
    "y_test_pred = rf.predict(x_test)\n",
    "rf_test_acc = accuracy_score(y_test, y_test_pred)\n",
    "print(\"Test Accuracy:\", rf_test_acc)\n",
    "print(\"Test Classification Report:\\n\", classification_report(y_test, y_test_pred))"
   ]
  },
  {
   "cell_type": "code",
   "execution_count": 13,
   "metadata": {},
   "outputs": [
    {
     "name": "stdout",
     "output_type": "stream",
     "text": [
      "Test Accuracy: 0.18247863247863247\n",
      "Test Classification Report:\n",
      "               precision    recall  f1-score   support\n",
      "\n",
      "           0       0.16      0.39      0.23       241\n",
      "           1       0.17      0.21      0.19       273\n",
      "           2       0.20      0.19      0.19       268\n",
      "           3       0.18      0.15      0.16       254\n",
      "           4       0.23      0.22      0.23       256\n",
      "           5       0.18      0.12      0.14       278\n",
      "           6       0.13      0.07      0.09       243\n",
      "           7       0.20      0.18      0.19       258\n",
      "           8       0.25      0.11      0.15       269\n",
      "\n",
      "    accuracy                           0.18      2340\n",
      "   macro avg       0.19      0.18      0.18      2340\n",
      "weighted avg       0.19      0.18      0.18      2340\n",
      "\n"
     ]
    }
   ],
   "source": [
    "knn = KNeighborsClassifier()\n",
    "\n",
    "knn.fit(x_train, y_train)\n",
    "\n",
    "y_test_pred = knn.predict(x_test)\n",
    "knn_test_acc = accuracy_score(y_test, y_test_pred)\n",
    "print(\"Test Accuracy:\", knn_test_acc)\n",
    "print(\"Test Classification Report:\\n\", classification_report(y_test, y_test_pred))"
   ]
  },
  {
   "cell_type": "code",
   "execution_count": 14,
   "metadata": {},
   "outputs": [
    {
     "name": "stdout",
     "output_type": "stream",
     "text": [
      "Test Accuracy: 0.23333333333333334\n",
      "Test Classification Report:\n",
      "               precision    recall  f1-score   support\n",
      "\n",
      "           0       0.21      0.25      0.23       241\n",
      "           1       0.25      0.27      0.26       273\n",
      "           2       0.25      0.25      0.25       268\n",
      "           3       0.25      0.29      0.27       254\n",
      "           4       0.23      0.27      0.25       256\n",
      "           5       0.20      0.13      0.16       278\n",
      "           6       0.19      0.18      0.18       243\n",
      "           7       0.22      0.22      0.22       258\n",
      "           8       0.29      0.26      0.27       269\n",
      "\n",
      "    accuracy                           0.23      2340\n",
      "   macro avg       0.23      0.23      0.23      2340\n",
      "weighted avg       0.23      0.23      0.23      2340\n",
      "\n"
     ]
    }
   ],
   "source": [
    "xgb = XGBClassifier()\n",
    "\n",
    "xgb.fit(x_train, y_train)\n",
    "\n",
    "y_test_pred = xgb.predict(x_test)\n",
    "xgb_test_acc = accuracy_score(y_test, y_test_pred)\n",
    "print(\"Test Accuracy:\", xgb_test_acc)\n",
    "print(\"Test Classification Report:\\n\", classification_report(y_test, y_test_pred))"
   ]
  },
  {
   "cell_type": "code",
   "execution_count": 15,
   "metadata": {},
   "outputs": [
    {
     "name": "stdout",
     "output_type": "stream",
     "text": [
      "Test Accuracy: 0.1858974358974359\n",
      "Test Classification Report:\n",
      "               precision    recall  f1-score   support\n",
      "\n",
      "           0       0.22      0.26      0.24       241\n",
      "           1       0.21      0.20      0.20       273\n",
      "           2       0.20      0.19      0.19       268\n",
      "           3       0.19      0.22      0.20       254\n",
      "           4       0.20      0.23      0.21       256\n",
      "           5       0.09      0.08      0.08       278\n",
      "           6       0.14      0.14      0.14       243\n",
      "           7       0.21      0.20      0.20       258\n",
      "           8       0.20      0.18      0.19       269\n",
      "\n",
      "    accuracy                           0.19      2340\n",
      "   macro avg       0.18      0.19      0.18      2340\n",
      "weighted avg       0.18      0.19      0.18      2340\n",
      "\n"
     ]
    },
    {
     "name": "stderr",
     "output_type": "stream",
     "text": [
      "/opt/anaconda3/envs/MATH452/lib/python3.12/site-packages/sklearn/linear_model/_logistic.py:469: ConvergenceWarning: lbfgs failed to converge (status=1):\n",
      "STOP: TOTAL NO. of ITERATIONS REACHED LIMIT.\n",
      "\n",
      "Increase the number of iterations (max_iter) or scale the data as shown in:\n",
      "    https://scikit-learn.org/stable/modules/preprocessing.html\n",
      "Please also refer to the documentation for alternative solver options:\n",
      "    https://scikit-learn.org/stable/modules/linear_model.html#logistic-regression\n",
      "  n_iter_i = _check_optimize_result(\n"
     ]
    }
   ],
   "source": [
    "lr = LogisticRegression()\n",
    "\n",
    "lr.fit(x_train, y_train)\n",
    "\n",
    "y_test_pred = lr.predict(x_test)\n",
    "lr_test_acc = accuracy_score(y_test, y_test_pred)\n",
    "print(\"Test Accuracy:\", lr_test_acc)\n",
    "print(\"Test Classification Report:\\n\", classification_report(y_test, y_test_pred))"
   ]
  },
  {
   "cell_type": "code",
   "execution_count": 16,
   "metadata": {},
   "outputs": [
    {
     "name": "stdout",
     "output_type": "stream",
     "text": [
      "Test Accuracy: 0.20384615384615384\n",
      "Test Classification Report:\n",
      "               precision    recall  f1-score   support\n",
      "\n",
      "           0       0.20      0.44      0.27       241\n",
      "           1       0.20      0.19      0.20       273\n",
      "           2       0.21      0.35      0.26       268\n",
      "           3       0.19      0.16      0.17       254\n",
      "           4       0.21      0.21      0.21       256\n",
      "           5       0.24      0.02      0.04       278\n",
      "           6       0.13      0.03      0.05       243\n",
      "           7       0.22      0.20      0.21       258\n",
      "           8       0.21      0.26      0.23       269\n",
      "\n",
      "    accuracy                           0.20      2340\n",
      "   macro avg       0.20      0.21      0.18      2340\n",
      "weighted avg       0.20      0.20      0.18      2340\n",
      "\n"
     ]
    }
   ],
   "source": [
    "nb = GaussianNB()\n",
    "\n",
    "nb.fit(x_train, y_train)\n",
    "\n",
    "y_test_pred = nb.predict(x_test)\n",
    "nb_test_acc = accuracy_score(y_test, y_test_pred)\n",
    "print(\"Test Accuracy:\", nb_test_acc)\n",
    "print(\"Test Classification Report:\\n\", classification_report(y_test, y_test_pred))"
   ]
  },
  {
   "cell_type": "code",
   "execution_count": 17,
   "metadata": {},
   "outputs": [
    {
     "data": {
      "image/png": "[encoded data removed]",
      "text/plain": [
       "<Figure size 640x480 with 1 Axes>"
      ]
     },
     "metadata": {},
     "output_type": "display_data"
    }
   ],
   "source": [
    "categories = ['SVM', 'Random Forest', 'KNN', 'XGBoost', 'Logistic Regression', 'Naive Bayes']\n",
    "test_accuracies = [svm_test_acc, rf_test_acc, knn_test_acc, xgb_test_acc, lr_test_acc, nb_test_acc]\n",
    "\n",
    "bar_width = 0.5\n",
    "index = np.arange(len(categories))\n",
    "\n",
    "plt.bar(index, test_accuracies, bar_width, label='Test')\n",
    "\n",
    "plt.xlabel('Models')\n",
    "plt.ylabel('Accuracy')\n",
    "plt.title('Traditional Machine Learning Methods on Chest X-Ray Image Classification')\n",
    "plt.xticks(index, categories, rotation=45, ha='right', va='top')\n",
    "plt.tight_layout()\n",
    "plt.show()\n"
   ]
  }
 ],
 "metadata": {
  "kernelspec": {
   "display_name": "MATH452",
   "language": "python",
   "name": "python3"
  },
  "language_info": {
   "codemirror_mode": {
    "name": "ipython",
    "version": 3
   },
   "file_extension": ".py",
   "mimetype": "text/x-python",
   "name": "python",
   "nbconvert_exporter": "python",
   "pygments_lexer": "ipython3",
   "version": "3.12.6"
  }
 },
 "nbformat": 4,
 "nbformat_minor": 2
}
