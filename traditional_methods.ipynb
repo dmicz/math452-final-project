{
 "cells": [
  {
   "cell_type": "code",
   "execution_count": 18,
   "metadata": {},
   "outputs": [],
   "source": [
    "import os\n",
    "import numpy as np\n",
    "from PIL import Image\n",
    "import pandas as pd\n",
    "from sklearn.preprocessing import LabelEncoder\n",
    "from sklearn.model_selection import train_test_split, GridSearchCV, KFold\n",
    "from sklearn.decomposition import PCA, IncrementalPCA\n",
    "from sklearn.metrics import accuracy_score, classification_report\n",
    "from tqdm import tqdm\n",
    "import numpy as np\n",
    "import tensorflow as tf\n",
    "from tensorflow import keras\n",
    "import matplotlib.pyplot as plt\n",
    "\n",
    "from sklearn.ensemble import RandomForestClassifier\n",
    "from sklearn.svm import SVC\n",
    "from sklearn.linear_model import LogisticRegression\n",
    "from sklearn.neighbors import KNeighborsClassifier\n",
    "from xgboost import XGBClassifier\n",
    "from sklearn.naive_bayes import GaussianNB"
   ]
  },
  {
   "cell_type": "code",
   "execution_count": 2,
   "metadata": {},
   "outputs": [],
   "source": [
    "# put image data into a numpy array\n",
    "def preprocess_data(img_dir):\n",
    "\n",
    "    images = []\n",
    "    labels = []\n",
    "\n",
    "    img_data = pd.read_csv('Data_Entry_2017_v2020.csv')\n",
    "\n",
    "    # loop through images\n",
    "    i = 1\n",
    "    for img_file in tqdm(os.listdir(img_dir), desc=f\"loading images\"):\n",
    "\n",
    "        # save them as numpy arrau\n",
    "        img_path = os.path.join(img_dir, img_file)\n",
    "        img = Image.open(img_path).convert('RGB') # 3 channels to match ImageNet\n",
    "\n",
    "\n",
    "        img = tf.image.resize(img, [32, 32])\n",
    "\n",
    "        img = tf.image.random_contrast(img, lower=0.8, upper=1.2) \n",
    "        img = tf.image.random_brightness(img, max_delta=0.2)\n",
    "        img = tf.image.random_flip_left_right(img)\n",
    "\n",
    "        # normalize the image to the range [0, 1]\n",
    "        img = tf.cast(img, tf.float32) / 255.0\n",
    "\n",
    "        # apply ImageNet normalization: (image - mean) / std\n",
    "        mean = [0.485, 0.456, 0.406]\n",
    "        std = [0.229, 0.224, 0.225]\n",
    "        img = (img - mean) / std\n",
    "\n",
    "        # add random noise\n",
    "        noise = tf.random.uniform(shape=tf.shape(img), minval=0, maxval=1, dtype=tf.float32)\n",
    "        img = tf.where(noise < 0.05 / 2, 0.0, tf.where(noise < 0.05, 1.0, img))\n",
    "\n",
    "        images.append(img)\n",
    "\n",
    "        # get label\n",
    "        label = img_data.loc[img_data['Image Index'] == img_file, 'Finding Labels'].values[0]\n",
    "        labels.append(label)\n",
    "\n",
    "        i += 1\n",
    "\n",
    "    # encode labels )numericaly\n",
    "    label_encoder = LabelEncoder()\n",
    "    labels = label_encoder.fit_transform(labels)\n",
    "\n",
    "    return np.array(images), np.array(labels)"
   ]
  },
  {
   "cell_type": "code",
   "execution_count": 3,
   "metadata": {},
   "outputs": [
    {
     "name": "stderr",
     "output_type": "stream",
     "text": [
      "loading images: 100%|██████████| 11700/11700 [03:54<00:00, 49.88it/s]\n"
     ]
    }
   ],
   "source": [
    "images, labels = preprocess_data('images')\n",
    "num_classes = len(set(labels))\n",
    "\n",
    "images = images.reshape(images.shape[0], -1).astype(float)\n",
    "\n",
    "# split data into training and testing sets (e.g., 80% train, 20% test)\n",
    "x_train, x_temp, y_train, y_temp = train_test_split(images, labels, test_size=0.2, random_state=42)\n",
    "x_val, x_test, y_val, y_test = train_test_split(x_temp, y_temp, test_size=0.5, random_state=42)"
   ]
  },
  {
   "cell_type": "code",
   "execution_count": 5,
   "metadata": {},
   "outputs": [],
   "source": [
    "# def hyperparameter_tuning(model, params, k_folds=5):\n",
    "#     k_fold = KFold(n_splits=k_folds, shuffle=True, random_state=0)\n",
    "#     grid_search = GridSearchCV(estimator=model, param_grid=params, cv=k_fold, scoring='accuracy', verbose=3, n_jobs=-1)\n",
    "\n",
    "#     grid_search.fit(x_train, y_train)\n",
    "\n",
    "#     # Best parameters\n",
    "#     print(\"Best Parameters:\", grid_search.best_params_)\n",
    "#     print(\"Best Score:\", grid_search.best_score_)\n",
    "\n",
    "#     return grid_search.best_params_, grid_search.best_score_"
   ]
  },
  {
   "cell_type": "code",
   "execution_count": null,
   "metadata": {},
   "outputs": [],
   "source": [
    "# svm = SVC()\n",
    "\n",
    "# param_grid_svm = {\n",
    "#     'C': [0.1, 1, 10, 100],\n",
    "#     'kernel': ['linear','poly', 'rbf']\n",
    "# }\n",
    "\n",
    "# params_svm, score_svm = hyperparameter_tuning(svm, param_grid_svm, 5)\n",
    "# print(f\"Best Params: {params_svm}\")\n",
    "# print(f\"Best Score: {score_svm}\")"
   ]
  },
  {
   "cell_type": "code",
   "execution_count": null,
   "metadata": {},
   "outputs": [],
   "source": [
    "# rf = RandomForestClassifier()\n",
    "\n",
    "# param_grid_rf = {\n",
    "#     'n_estimators': [100, 200, 500, 100],\n",
    "#     'max_depth': [None, 10, 20, 30]\n",
    "# }\n",
    "\n",
    "# params_rf, score_rf = hyperparameter_tuning(rf, param_grid_rf, 5)\n",
    "# print(f\"Best Params: {params_rf}\")\n",
    "# print(f\"Best Score: {score_rf}\")"
   ]
  },
  {
   "cell_type": "code",
   "execution_count": null,
   "metadata": {},
   "outputs": [],
   "source": [
    "# knn = KNeighborsClassifier()\n",
    "\n",
    "# param_grid_knn = {\n",
    "#     'n_neighbors': [1, 3, 5, 7, 9, 11, 13, 15]\n",
    "# }\n",
    "\n",
    "# params_knn, score_knn = hyperparameter_tuning(knn, param_grid_knn, 5)\n",
    "# print(f\"Best Params: {params_knn}\")\n",
    "# print(f\"Best Score: {score_knn}\")"
   ]
  },
  {
   "cell_type": "code",
   "execution_count": null,
   "metadata": {},
   "outputs": [],
   "source": [
    "# xgb = XGBClassifier()\n",
    "\n",
    "# param_grid_xgb = {\n",
    "#     'n_estimators': [100, 200, 500, 1000],\n",
    "#     'learning_rate': [0.01, 0.05, 0.1, 0.2]\n",
    "# }\n",
    "\n",
    "# params_xgb, score_xgb = hyperparameter_tuning(xgb, param_grid_xgb, 5)\n",
    "# print(f\"Best Params: {params_xgb}\")\n",
    "# print(f\"Best Score: {score_xgb}\")"
   ]
  },
  {
   "cell_type": "code",
   "execution_count": 19,
   "metadata": {},
   "outputs": [
    {
     "name": "stdout",
     "output_type": "stream",
     "text": [
      "Validation Accuracy: 0.24017094017094018\n",
      "Test Accuracy: 0.24700854700854702\n",
      "Test Classification Report:\n",
      "               precision    recall  f1-score   support\n",
      "\n",
      "           0       0.28      0.34      0.31       131\n",
      "           1       0.27      0.24      0.26       127\n",
      "           2       0.18      0.19      0.19       140\n",
      "           3       0.24      0.32      0.27       115\n",
      "           4       0.23      0.33      0.27       123\n",
      "           5       0.16      0.08      0.10       132\n",
      "           6       0.23      0.16      0.19       124\n",
      "           7       0.28      0.27      0.28       138\n",
      "           8       0.31      0.31      0.31       140\n",
      "\n",
      "    accuracy                           0.25      1170\n",
      "   macro avg       0.24      0.25      0.24      1170\n",
      "weighted avg       0.24      0.25      0.24      1170\n",
      "\n"
     ]
    }
   ],
   "source": [
    "svm = SVC()\n",
    "\n",
    "svm.fit(x_train, y_train)\n",
    "\n",
    "y_val_pred = svm.predict(x_val)\n",
    "svm_val_acc = accuracy_score(y_val, y_val_pred)\n",
    "print(\"Validation Accuracy:\", svm_val_acc)\n",
    "\n",
    "y_test_pred = svm.predict(x_test)\n",
    "svm_test_acc = accuracy_score(y_test, y_test_pred)\n",
    "print(\"Test Accuracy:\", svm_test_acc)\n",
    "print(\"Test Classification Report:\\n\", classification_report(y_test, y_test_pred))"
   ]
  },
  {
   "cell_type": "code",
   "execution_count": 20,
   "metadata": {},
   "outputs": [
    {
     "name": "stdout",
     "output_type": "stream",
     "text": [
      "Validation Accuracy: 0.2230769230769231\n",
      "Test Accuracy: 0.23504273504273504\n",
      "Test Classification Report:\n",
      "               precision    recall  f1-score   support\n",
      "\n",
      "           0       0.24      0.26      0.25       131\n",
      "           1       0.27      0.31      0.29       127\n",
      "           2       0.20      0.20      0.20       140\n",
      "           3       0.19      0.29      0.23       115\n",
      "           4       0.22      0.28      0.24       123\n",
      "           5       0.17      0.09      0.12       132\n",
      "           6       0.19      0.15      0.17       124\n",
      "           7       0.28      0.27      0.27       138\n",
      "           8       0.34      0.27      0.30       140\n",
      "\n",
      "    accuracy                           0.24      1170\n",
      "   macro avg       0.23      0.24      0.23      1170\n",
      "weighted avg       0.24      0.24      0.23      1170\n",
      "\n"
     ]
    }
   ],
   "source": [
    "rf = RandomForestClassifier()\n",
    "\n",
    "rf.fit(x_train, y_train)\n",
    "\n",
    "y_val_pred = rf.predict(x_val)\n",
    "rf_val_acc = accuracy_score(y_val, y_val_pred)\n",
    "print(\"Validation Accuracy:\", rf_val_acc)\n",
    "\n",
    "y_test_pred = rf.predict(x_test)\n",
    "rf_test_acc = accuracy_score(y_test, y_test_pred)\n",
    "print(\"Test Accuracy:\", rf_test_acc)\n",
    "print(\"Test Classification Report:\\n\", classification_report(y_test, y_test_pred))"
   ]
  },
  {
   "cell_type": "code",
   "execution_count": 21,
   "metadata": {},
   "outputs": [
    {
     "name": "stdout",
     "output_type": "stream",
     "text": [
      "Validation Accuracy: 0.16153846153846155\n",
      "Test Accuracy: 0.19658119658119658\n",
      "Test Classification Report:\n",
      "               precision    recall  f1-score   support\n",
      "\n",
      "           0       0.21      0.48      0.29       131\n",
      "           1       0.17      0.24      0.20       127\n",
      "           2       0.17      0.16      0.17       140\n",
      "           3       0.22      0.29      0.25       115\n",
      "           4       0.21      0.18      0.19       123\n",
      "           5       0.17      0.11      0.13       132\n",
      "           6       0.15      0.09      0.11       124\n",
      "           7       0.19      0.12      0.15       138\n",
      "           8       0.30      0.12      0.17       140\n",
      "\n",
      "    accuracy                           0.20      1170\n",
      "   macro avg       0.20      0.20      0.18      1170\n",
      "weighted avg       0.20      0.20      0.18      1170\n",
      "\n"
     ]
    }
   ],
   "source": [
    "knn = KNeighborsClassifier()\n",
    "\n",
    "knn.fit(x_train, y_train)\n",
    "\n",
    "y_val_pred = knn.predict(x_val)\n",
    "knn_val_acc = accuracy_score(y_val, y_val_pred)\n",
    "print(\"Validation Accuracy:\", knn_val_acc)\n",
    "\n",
    "y_test_pred = knn.predict(x_test)\n",
    "knn_test_acc = accuracy_score(y_test, y_test_pred)\n",
    "print(\"Test Accuracy:\", knn_test_acc)\n",
    "print(\"Test Classification Report:\\n\", classification_report(y_test, y_test_pred))"
   ]
  },
  {
   "cell_type": "code",
   "execution_count": 22,
   "metadata": {},
   "outputs": [
    {
     "name": "stdout",
     "output_type": "stream",
     "text": [
      "Validation Accuracy: 0.20683760683760682\n",
      "Test Accuracy: 0.24957264957264957\n",
      "Test Classification Report:\n",
      "               precision    recall  f1-score   support\n",
      "\n",
      "           0       0.27      0.32      0.29       131\n",
      "           1       0.21      0.17      0.19       127\n",
      "           2       0.26      0.23      0.24       140\n",
      "           3       0.22      0.29      0.25       115\n",
      "           4       0.23      0.31      0.27       123\n",
      "           5       0.24      0.19      0.21       132\n",
      "           6       0.24      0.22      0.23       124\n",
      "           7       0.29      0.29      0.29       138\n",
      "           8       0.28      0.24      0.26       140\n",
      "\n",
      "    accuracy                           0.25      1170\n",
      "   macro avg       0.25      0.25      0.25      1170\n",
      "weighted avg       0.25      0.25      0.25      1170\n",
      "\n"
     ]
    }
   ],
   "source": [
    "xgb = XGBClassifier()\n",
    "\n",
    "xgb.fit(x_train, y_train)\n",
    "\n",
    "y_val_pred = xgb.predict(x_val)\n",
    "xgb_val_acc = accuracy_score(y_val, y_val_pred)\n",
    "print(\"Validation Accuracy:\", xgb_val_acc)\n",
    "\n",
    "y_test_pred = xgb.predict(x_test)\n",
    "xgb_test_acc = accuracy_score(y_test, y_test_pred)\n",
    "print(\"Test Accuracy:\", xgb_test_acc)\n",
    "print(\"Test Classification Report:\\n\", classification_report(y_test, y_test_pred))"
   ]
  },
  {
   "cell_type": "code",
   "execution_count": 23,
   "metadata": {},
   "outputs": [
    {
     "name": "stdout",
     "output_type": "stream",
     "text": [
      "Validation Accuracy: 0.1658119658119658\n",
      "Test Accuracy: 0.1623931623931624\n",
      "Test Classification Report:\n",
      "               precision    recall  f1-score   support\n",
      "\n",
      "           0       0.16      0.19      0.18       131\n",
      "           1       0.16      0.13      0.14       127\n",
      "           2       0.15      0.16      0.16       140\n",
      "           3       0.16      0.21      0.18       115\n",
      "           4       0.18      0.20      0.19       123\n",
      "           5       0.09      0.09      0.09       132\n",
      "           6       0.19      0.18      0.18       124\n",
      "           7       0.19      0.17      0.18       138\n",
      "           8       0.18      0.15      0.16       140\n",
      "\n",
      "    accuracy                           0.16      1170\n",
      "   macro avg       0.16      0.16      0.16      1170\n",
      "weighted avg       0.16      0.16      0.16      1170\n",
      "\n"
     ]
    },
    {
     "name": "stderr",
     "output_type": "stream",
     "text": [
      "/opt/anaconda3/envs/MATH452/lib/python3.12/site-packages/sklearn/linear_model/_logistic.py:469: ConvergenceWarning: lbfgs failed to converge (status=1):\n",
      "STOP: TOTAL NO. of ITERATIONS REACHED LIMIT.\n",
      "\n",
      "Increase the number of iterations (max_iter) or scale the data as shown in:\n",
      "    https://scikit-learn.org/stable/modules/preprocessing.html\n",
      "Please also refer to the documentation for alternative solver options:\n",
      "    https://scikit-learn.org/stable/modules/linear_model.html#logistic-regression\n",
      "  n_iter_i = _check_optimize_result(\n"
     ]
    }
   ],
   "source": [
    "lr = LogisticRegression()\n",
    "\n",
    "lr.fit(x_train, y_train)\n",
    "\n",
    "y_val_pred = lr.predict(x_val)\n",
    "lr_val_acc = accuracy_score(y_val, y_val_pred)\n",
    "print(\"Validation Accuracy:\", lr_val_acc)\n",
    "\n",
    "y_test_pred = lr.predict(x_test)\n",
    "lr_test_acc = accuracy_score(y_test, y_test_pred)\n",
    "print(\"Test Accuracy:\", lr_test_acc)\n",
    "print(\"Test Classification Report:\\n\", classification_report(y_test, y_test_pred))"
   ]
  },
  {
   "cell_type": "code",
   "execution_count": 24,
   "metadata": {},
   "outputs": [
    {
     "name": "stdout",
     "output_type": "stream",
     "text": [
      "Validation Accuracy: 0.19914529914529913\n",
      "Test Accuracy: 0.2\n",
      "Test Classification Report:\n",
      "               precision    recall  f1-score   support\n",
      "\n",
      "           0       0.23      0.44      0.30       131\n",
      "           1       0.18      0.21      0.19       127\n",
      "           2       0.19      0.28      0.23       140\n",
      "           3       0.21      0.21      0.21       115\n",
      "           4       0.21      0.21      0.21       123\n",
      "           5       0.08      0.01      0.01       132\n",
      "           6       0.14      0.03      0.05       124\n",
      "           7       0.20      0.17      0.19       138\n",
      "           8       0.19      0.22      0.21       140\n",
      "\n",
      "    accuracy                           0.20      1170\n",
      "   macro avg       0.18      0.20      0.18      1170\n",
      "weighted avg       0.18      0.20      0.18      1170\n",
      "\n"
     ]
    }
   ],
   "source": [
    "nb = GaussianNB()\n",
    "\n",
    "nb.fit(x_train, y_train)\n",
    "\n",
    "y_val_pred = nb.predict(x_val)\n",
    "nb_val_acc = accuracy_score(y_val, y_val_pred)\n",
    "print(\"Validation Accuracy:\", nb_val_acc)\n",
    "\n",
    "y_test_pred = nb.predict(x_test)\n",
    "nb_test_acc = accuracy_score(y_test, y_test_pred)\n",
    "print(\"Test Accuracy:\", nb_test_acc)\n",
    "print(\"Test Classification Report:\\n\", classification_report(y_test, y_test_pred))"
   ]
  },
  {
   "cell_type": "code",
   "execution_count": 28,
   "metadata": {},
   "outputs": [
    {
     "data": {
      "image/png": "[encoded data removed]",
      "text/plain": [
       "<Figure size 640x480 with 1 Axes>"
      ]
     },
     "metadata": {},
     "output_type": "display_data"
    }
   ],
   "source": [
    "categories = ['SVM', 'Random Forest', 'KNN', 'XGBoost', 'Logistic Regression', 'Naive Bayes']\n",
    "validation_accuracies = [svm_val_acc, rf_val_acc, knn_val_acc, xgb_val_acc, lr_val_acc, nb_val_acc]\n",
    "test_accuracies = [svm_test_acc, rf_test_acc, knn_test_acc, xgb_test_acc, lr_test_acc, nb_test_acc]\n",
    "\n",
    "bar_width = 0.35\n",
    "index = np.arange(len(categories))\n",
    "\n",
    "plt.bar(index - bar_width / 2, validation_accuracies, bar_width, label='Validation')\n",
    "plt.bar(index + bar_width / 2, test_accuracies, bar_width, label='Test')\n",
    "\n",
    "plt.xlabel('Models')\n",
    "plt.ylabel('Accuracy')\n",
    "plt.title('Traditional Machine Learning Methods on Chest X-Ray Image Classification')\n",
    "plt.xticks(index, categories, rotation=45, ha='right', va='top')\n",
    "plt.legend()\n",
    "plt.tight_layout()\n",
    "plt.show()\n"
   ]
  }
 ],
 "metadata": {
  "kernelspec": {
   "display_name": "MATH452",
   "language": "python",
   "name": "python3"
  },
  "language_info": {
   "codemirror_mode": {
    "name": "ipython",
    "version": 3
   },
   "file_extension": ".py",
   "mimetype": "text/x-python",
   "name": "python",
   "nbconvert_exporter": "python",
   "pygments_lexer": "ipython3",
   "version": "3.12.6"
  }
 },
 "nbformat": 4,
 "nbformat_minor": 2
}
